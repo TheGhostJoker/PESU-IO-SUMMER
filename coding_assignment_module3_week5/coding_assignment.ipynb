{
  "nbformat": 4,
  "nbformat_minor": 0,
  "metadata": {
    "colab": {
      "name": "coding_assignment.ipynb",
      "version": "0.3.2",
      "provenance": []
    },
    "kernelspec": {
      "name": "python3",
      "display_name": "Python 3"
    }
  },
  "cells": [
    {
      "cell_type": "markdown",
      "metadata": {
        "id": "ECkZ9b3v6H84",
        "colab_type": "text"
      },
      "source": [
        "#Coding Assignment:\n",
        "##Name: Rishit Chaudhary"
      ]
    },
    {
      "cell_type": "code",
      "metadata": {
        "id": "eaaOR9RXPn0V",
        "colab_type": "code",
        "colab": {
          "base_uri": "https://localhost:8080/",
          "height": 34
        },
        "outputId": "4ef1395d-2d7b-40ca-9b4d-f1910bfda78d"
      },
      "source": [
        "from __future__ import absolute_import, division, print_function, unicode_literals\n",
        "\n",
        "# We need TensorFlow and tf.keras\n",
        "import tensorflow as tf\n",
        "from tensorflow import keras\n",
        "\n",
        "# Helper libraries\n",
        "# 1. numpy\n",
        "# 2. matplotlib\n",
        "import numpy as np\n",
        "import matplotlib.pyplot as plt\n",
        "\n",
        "print(\"The version of Tensorflow I am using for my Project is:\", tf.__version__)"
      ],
      "execution_count": 1,
      "outputs": [
        {
          "output_type": "stream",
          "text": [
            "The version of Tensorflow I am using for my Project is: 1.14.0\n"
          ],
          "name": "stdout"
        }
      ]
    },
    {
      "cell_type": "markdown",
      "metadata": {
        "id": "219ZPoSykXnz",
        "colab_type": "text"
      },
      "source": [
        "### I am using the Fashion MNIST Database, for my Project"
      ]
    },
    {
      "cell_type": "code",
      "metadata": {
        "id": "g1It7gmPPp8I",
        "colab_type": "code",
        "colab": {}
      },
      "source": [
        "# I am using the Fashion MNIST Database, for my Project\n",
        "fashion_mnist_dataset = keras.datasets.fashion_mnist\n",
        "\n",
        "# Now I am going to load the data in the Fashion MNIST Database\n",
        "(train_imgs, train_labels), (test_imgs, test_labels) = fashion_mnist_dataset.load_data()"
      ],
      "execution_count": 0,
      "outputs": []
    },
    {
      "cell_type": "markdown",
      "metadata": {
        "id": "up72Z0a6jr8z",
        "colab_type": "text"
      },
      "source": [
        "The images used are 28x28 NumPy arrays, with pixel values ranging between 0 and 255. The *labels* are an array of integers, ranging from 0 to 9. These integers correspond to the *class* of clothing the image represents:\n",
        "\n",
        "<table>\n",
        "  <tr>\n",
        "    <th>Label</th>\n",
        "    <th>Class</th>\n",
        "  </tr>\n",
        "  <tr>\n",
        "    <td>0</td>\n",
        "    <td>T-shirt/top</td>\n",
        "  </tr>\n",
        "  <tr>\n",
        "    <td>1</td>\n",
        "    <td>Trouser</td>\n",
        "  </tr>\n",
        "    <tr>\n",
        "    <td>2</td>\n",
        "    <td>Pullover</td>\n",
        "  </tr>\n",
        "    <tr>\n",
        "    <td>3</td>\n",
        "    <td>Dress</td>\n",
        "  </tr>\n",
        "    <tr>\n",
        "    <td>4</td>\n",
        "    <td>Coat</td>\n",
        "  </tr>\n",
        "    <tr>\n",
        "    <td>5</td>\n",
        "    <td>Sandal</td>\n",
        "  </tr>\n",
        "    <tr>\n",
        "    <td>6</td>\n",
        "    <td>Shirt</td>\n",
        "  </tr>\n",
        "    <tr>\n",
        "    <td>7</td>\n",
        "    <td>Sneaker</td>\n",
        "  </tr>\n",
        "    <tr>\n",
        "    <td>8</td>\n",
        "    <td>Bag</td>\n",
        "  </tr>\n",
        "    <tr>\n",
        "    <td>9</td>\n",
        "    <td>Ankle boot</td>\n",
        "  </tr>\n",
        "</table>\n",
        "\n",
        "Each image is mapped to a single label. The labels are included, but the *class names* are not included with the dataset, so I am storing them here to use later when I will be plotting the images"
      ]
    },
    {
      "cell_type": "code",
      "metadata": {
        "id": "nvZFxOthPs5W",
        "colab_type": "code",
        "colab": {}
      },
      "source": [
        "# I have now made a list of the class names in order\n",
        "class_names = ['T-shirt/top', 'Trouser', 'Pullover', 'Dress', 'Coat',\n",
        "               'Sandal', 'Shirt', 'Sneaker', 'Bag', 'Ankle boot']"
      ],
      "execution_count": 0,
      "outputs": []
    },
    {
      "cell_type": "markdown",
      "metadata": {
        "id": "ThyviNlrvS8k",
        "colab_type": "text"
      },
      "source": [
        "## Now I will try to find the number of images in the traning dataset and the height and width of each image in Pixels"
      ]
    },
    {
      "cell_type": "code",
      "metadata": {
        "id": "lEaab8cnQ7qW",
        "colab_type": "code",
        "colab": {
          "base_uri": "https://localhost:8080/",
          "height": 68
        },
        "outputId": "f4b0267a-1b50-4972-f66e-dcfb53091845"
      },
      "source": [
        "# Now I will try to find the number of images in the traning dataset and the height and width of each image in Pixels\n",
        "print(train_imgs.shape)\n",
        "print(\"The number of images are:\", train_imgs.shape[0])\n",
        "print(\"The dimensions of each of the images are:\", train_imgs.shape[1], 'x', train_imgs.shape[2])"
      ],
      "execution_count": 4,
      "outputs": [
        {
          "output_type": "stream",
          "text": [
            "(60000, 28, 28)\n",
            "The number of images are: 60000\n",
            "The dimensions of each of the images are: 28 x 28\n"
          ],
          "name": "stdout"
        }
      ]
    },
    {
      "cell_type": "code",
      "metadata": {
        "id": "-205WEZLRBd2",
        "colab_type": "code",
        "colab": {
          "base_uri": "https://localhost:8080/",
          "height": 34
        },
        "outputId": "789e9eca-be83-417d-8bca-6923b828ca9c"
      },
      "source": [
        "# This is the number of labels in the train_labels variable, the number of labels here has to be equal the number of images in the train_imgs variable as the the train_lables are for the train_imgs only\n",
        "len(train_labels)"
      ],
      "execution_count": 5,
      "outputs": [
        {
          "output_type": "execute_result",
          "data": {
            "text/plain": [
              "60000"
            ]
          },
          "metadata": {
            "tags": []
          },
          "execution_count": 5
        }
      ]
    },
    {
      "cell_type": "code",
      "metadata": {
        "id": "8o-qjEhcRYTm",
        "colab_type": "code",
        "colab": {
          "base_uri": "https://localhost:8080/",
          "height": 34
        },
        "outputId": "8a32d1f7-f602-409f-e7fd-f2aec77e0ec7"
      },
      "source": [
        "# This variable contains an array of the labels, where each label is an integer between 0 and 9\n",
        "train_labels"
      ],
      "execution_count": 6,
      "outputs": [
        {
          "output_type": "execute_result",
          "data": {
            "text/plain": [
              "array([9, 0, 0, ..., 3, 0, 5], dtype=uint8)"
            ]
          },
          "metadata": {
            "tags": []
          },
          "execution_count": 6
        }
      ]
    },
    {
      "cell_type": "code",
      "metadata": {
        "id": "922PpxLASG1m",
        "colab_type": "code",
        "colab": {
          "base_uri": "https://localhost:8080/",
          "height": 34
        },
        "outputId": "e28e4f70-74f7-461c-b34d-03beab785b2f"
      },
      "source": [
        "# Now I will try to find the number of images in the test_imgs variable and the height and width of each image in Pixels\n",
        "test_imgs.shape"
      ],
      "execution_count": 7,
      "outputs": [
        {
          "output_type": "execute_result",
          "data": {
            "text/plain": [
              "(10000, 28, 28)"
            ]
          },
          "metadata": {
            "tags": []
          },
          "execution_count": 7
        }
      ]
    },
    {
      "cell_type": "code",
      "metadata": {
        "id": "DlLr9HV6SHt9",
        "colab_type": "code",
        "colab": {
          "base_uri": "https://localhost:8080/",
          "height": 34
        },
        "outputId": "08099f8b-452b-4013-8298-84140630c2df"
      },
      "source": [
        "# This is the number of labels in the test_labels variable, the number of labels here has to be equal the number of images in the test_imgs variable as the the test_lables are for the test_imgs only\n",
        "len(test_labels)"
      ],
      "execution_count": 8,
      "outputs": [
        {
          "output_type": "execute_result",
          "data": {
            "text/plain": [
              "10000"
            ]
          },
          "metadata": {
            "tags": []
          },
          "execution_count": 8
        }
      ]
    },
    {
      "cell_type": "markdown",
      "metadata": {
        "id": "PRyJ7NiTjRXn",
        "colab_type": "text"
      },
      "source": [
        "## Now I will display the 10th image in the train_imgs variable, along with its corresponding label\n",
        "\n"
      ]
    },
    {
      "cell_type": "code",
      "metadata": {
        "id": "dVegAITpSIEN",
        "colab_type": "code",
        "colab": {
          "base_uri": "https://localhost:8080/",
          "height": 283
        },
        "outputId": "ef64f0e3-3726-4f0e-d965-d52c2a80133f"
      },
      "source": [
        "# Now I will display the 10th image in the train_imgs variable, along with its corresponding label\n",
        "plt.figure()\n",
        "plt.imshow(train_imgs[10])\n",
        "plt.xlabel(class_names[train_labels[10]])\n",
        "plt.colorbar()\n",
        "plt.grid(False)\n",
        "plt.show()"
      ],
      "execution_count": 9,
      "outputs": [
        {
          "output_type": "display_data",
          "data": {
            "image/png": "[encoded data removed]",
            "text/plain": [
              "<Figure size 432x288 with 2 Axes>"
            ]
          },
          "metadata": {
            "tags": []
          }
        }
      ]
    },
    {
      "cell_type": "markdown",
      "metadata": {
        "id": "x9ILKNo-v-aZ",
        "colab_type": "text"
      },
      "source": [
        "I am now scaling the values to a range of 0 to 1 before feeding them to the neural network model. \n",
        "To do this, I have divided the values by 255, for both the training set and the testing set as they both need to be preprocessed in the same way"
      ]
    },
    {
      "cell_type": "code",
      "metadata": {
        "id": "aZVXtIkJR1qW",
        "colab_type": "code",
        "colab": {}
      },
      "source": [
        "train_imgs = train_imgs / 255.0\n",
        "\n",
        "test_imgs = test_imgs / 255.0"
      ],
      "execution_count": 0,
      "outputs": []
    },
    {
      "cell_type": "markdown",
      "metadata": {
        "id": "5SWDRevfwsIR",
        "colab_type": "text"
      },
      "source": [
        "##Now I am going to display the first 25 images from the training data set along with their respective class name below each image"
      ]
    },
    {
      "cell_type": "code",
      "metadata": {
        "id": "xOfWNGRvTyBq",
        "colab_type": "code",
        "colab": {
          "base_uri": "https://localhost:8080/",
          "height": 592
        },
        "outputId": "8a5a2c9d-2f01-4b93-ac8e-5b0a08b9f55e"
      },
      "source": [
        "plt.figure(figsize=(10,10))\n",
        "for i in range(25):\n",
        "    plt.subplot(5,5,i+1)\n",
        "    plt.xticks([])\n",
        "    plt.yticks([])\n",
        "    plt.grid(False)\n",
        "    plt.imshow(train_imgs[i], cmap=plt.cm.binary)\n",
        "    plt.xlabel(class_names[train_labels[i]])\n",
        "plt.show()"
      ],
      "execution_count": 11,
      "outputs": [
        {
          "output_type": "display_data",
          "data": {
            "image/png": "[encoded data removed]",
            "text/plain": [
              "<Figure size 720x720 with 25 Axes>"
            ]
          },
          "metadata": {
            "tags": []
          }
        }
      ]
    },
    {
      "cell_type": "markdown",
      "metadata": {
        "id": "n6-gNXtpxaN5",
        "colab_type": "text"
      },
      "source": [
        "# Building the Model:\n",
        "For the first layer in my network, tf.keras.layers.Flatten, transforms the format of each of the images from a 2d-array (of 28 x 28 pixels), to a 1d-array of 28 * 28 = 784 pixels. \n",
        "\n",
        "After the pixels have been flattened, my network consists of a sequence of two tf.keras.layers.Dense layers. The first Dense layer has 128 nodes. The second (and last) layer is a 10-node softmax layer—this returns an array of 10 probability scores that sum to 1. \n",
        "\n",
        "Each node contains a score that indicates the probability that the current image belongs to one of the 10 classes, of the data set."
      ]
    },
    {
      "cell_type": "code",
      "metadata": {
        "id": "RDICpqe0T8Om",
        "colab_type": "code",
        "colab": {
          "base_uri": "https://localhost:8080/",
          "height": 105
        },
        "outputId": "40355c7a-4db5-445a-927b-c44f8a7f6b10"
      },
      "source": [
        "model = keras.Sequential([\n",
        "    keras.layers.Flatten(input_shape=(28, 28)),\n",
        "    keras.layers.Dense(128, activation=tf.nn.relu),\n",
        "    keras.layers.Dense(10, activation=tf.nn.softmax)\n",
        "])\n",
        "\n",
        "model.compile(optimizer='adam',\n",
        "              loss='sparse_categorical_crossentropy',\n",
        "              metrics=['accuracy'])"
      ],
      "execution_count": 12,
      "outputs": [
        {
          "output_type": "stream",
          "text": [
            "WARNING: Logging before flag parsing goes to stderr.\n",
            "W0704 16:52:30.342221 139962665637760 deprecation.py:506] From /usr/local/lib/python3.6/dist-packages/tensorflow/python/ops/init_ops.py:1251: calling VarianceScaling.__init__ (from tensorflow.python.ops.init_ops) with dtype is deprecated and will be removed in a future version.\n",
            "Instructions for updating:\n",
            "Call initializer instance with the dtype argument instead of passing it to the constructor\n"
          ],
          "name": "stderr"
        }
      ]
    },
    {
      "cell_type": "code",
      "metadata": {
        "id": "OWjiLihnUNf2",
        "colab_type": "code",
        "colab": {
          "base_uri": "https://localhost:8080/",
          "height": 204
        },
        "outputId": "b4a16a77-581d-4340-8af6-6d22a8c33f3a"
      },
      "source": [
        "model.fit(train_imgs, train_labels, epochs=5)"
      ],
      "execution_count": 13,
      "outputs": [
        {
          "output_type": "stream",
          "text": [
            "Epoch 1/5\n",
            "60000/60000 [==============================] - 4s 72us/sample - loss: 0.4962 - acc: 0.8255\n",
            "Epoch 2/5\n",
            "60000/60000 [==============================] - 4s 70us/sample - loss: 0.3754 - acc: 0.8640\n",
            "Epoch 3/5\n",
            "60000/60000 [==============================] - 4s 68us/sample - loss: 0.3366 - acc: 0.8781\n",
            "Epoch 4/5\n",
            "60000/60000 [==============================] - 4s 68us/sample - loss: 0.3121 - acc: 0.8866\n",
            "Epoch 5/5\n",
            "60000/60000 [==============================] - 4s 68us/sample - loss: 0.2950 - acc: 0.8911\n"
          ],
          "name": "stdout"
        },
        {
          "output_type": "execute_result",
          "data": {
            "text/plain": [
              "<tensorflow.python.keras.callbacks.History at 0x7f4b60ea49b0>"
            ]
          },
          "metadata": {
            "tags": []
          },
          "execution_count": 13
        }
      ]
    },
    {
      "cell_type": "markdown",
      "metadata": {
        "id": "CJZvbzSWy7GC",
        "colab_type": "text"
      },
      "source": [
        "## Now, I am going to compare how the model performs on the test dataset"
      ]
    },
    {
      "cell_type": "code",
      "metadata": {
        "id": "n1POaIohVEm1",
        "colab_type": "code",
        "colab": {
          "base_uri": "https://localhost:8080/",
          "height": 34
        },
        "outputId": "212afea8-9674-4409-d34c-3d6c2de5f2ff"
      },
      "source": [
        "test_set_loss, test_set_acc = model.evaluate(test_imgs, test_labels)"
      ],
      "execution_count": 14,
      "outputs": [
        {
          "output_type": "stream",
          "text": [
            "10000/10000 [==============================] - 0s 34us/sample - loss: 0.3625 - acc: 0.8706\n"
          ],
          "name": "stdout"
        }
      ]
    },
    {
      "cell_type": "code",
      "metadata": {
        "id": "091lZW75VT4G",
        "colab_type": "code",
        "colab": {
          "base_uri": "https://localhost:8080/",
          "height": 51
        },
        "outputId": "41775ad3-9ef2-4202-fd04-3f6aaaa183ea"
      },
      "source": [
        "print('Test accuracy:', test_set_acc)\n",
        "print('Test loss:', test_set_loss)"
      ],
      "execution_count": 15,
      "outputs": [
        {
          "output_type": "stream",
          "text": [
            "Test accuracy: 0.8706\n",
            "Test loss: 0.36253971610069274\n"
          ],
          "name": "stdout"
        }
      ]
    },
    {
      "cell_type": "markdown",
      "metadata": {
        "id": "FyKXacEHzPTJ",
        "colab_type": "text"
      },
      "source": [
        "## Making predictions on Test Data set\n"
      ]
    },
    {
      "cell_type": "code",
      "metadata": {
        "id": "XnZqLVuPVa41",
        "colab_type": "code",
        "colab": {}
      },
      "source": [
        "predictions = model.predict(test_imgs)"
      ],
      "execution_count": 0,
      "outputs": []
    },
    {
      "cell_type": "code",
      "metadata": {
        "id": "UWh-u7JEcOFV",
        "colab_type": "code",
        "colab": {
          "base_uri": "https://localhost:8080/",
          "height": 238
        },
        "outputId": "90c2a2fb-6082-47a0-dbfd-1d7625c76422"
      },
      "source": [
        "predictions"
      ],
      "execution_count": 17,
      "outputs": [
        {
          "output_type": "execute_result",
          "data": {
            "text/plain": [
              "array([[1.58958198e-06, 2.50566529e-07, 7.65143795e-06, ...,\n",
              "        1.07442603e-01, 5.33076854e-05, 6.63931251e-01],\n",
              "       [8.45465638e-06, 2.05319811e-12, 9.99205410e-01, ...,\n",
              "        2.00007580e-10, 1.08290710e-08, 1.78309245e-14],\n",
              "       [2.66316258e-09, 1.00000000e+00, 2.91659717e-11, ...,\n",
              "        5.45413945e-19, 1.40140191e-11, 3.26543973e-17],\n",
              "       ...,\n",
              "       [5.38805546e-03, 9.73187486e-09, 4.43551398e-04, ...,\n",
              "        2.26233084e-07, 9.89709318e-01, 3.45622819e-09],\n",
              "       [1.13387564e-07, 9.99727666e-01, 2.50554510e-09, ...,\n",
              "        2.39338551e-13, 1.72773653e-08, 5.40778490e-12],\n",
              "       [6.24599488e-05, 2.41066846e-06, 1.00776269e-04, ...,\n",
              "        4.13531531e-03, 2.77821062e-04, 2.20056299e-05]], dtype=float32)"
            ]
          },
          "metadata": {
            "tags": []
          },
          "execution_count": 17
        }
      ]
    },
    {
      "cell_type": "markdown",
      "metadata": {
        "id": "-ewFd_PwzesZ",
        "colab_type": "text"
      },
      "source": [
        "##Below is the prediction that my Model has made for the 10<sup>th</sup>  test image"
      ]
    },
    {
      "cell_type": "code",
      "metadata": {
        "id": "0QJORCGJcSWl",
        "colab_type": "code",
        "colab": {
          "base_uri": "https://localhost:8080/",
          "height": 68
        },
        "outputId": "61221342-f22d-4cd6-984f-23efcccb3aa4"
      },
      "source": [
        "predictions[10]"
      ],
      "execution_count": 18,
      "outputs": [
        {
          "output_type": "execute_result",
          "data": {
            "text/plain": [
              "array([6.1343453e-05, 9.5682162e-06, 4.0421331e-01, 3.5560658e-06,\n",
              "       5.0842470e-01, 2.5621589e-06, 8.7254614e-02, 6.7243093e-08,\n",
              "       3.0343474e-05, 4.6634754e-09], dtype=float32)"
            ]
          },
          "metadata": {
            "tags": []
          },
          "execution_count": 18
        }
      ]
    },
    {
      "cell_type": "code",
      "metadata": {
        "id": "r1oHBbHzcacl",
        "colab_type": "code",
        "colab": {
          "base_uri": "https://localhost:8080/",
          "height": 34
        },
        "outputId": "4f689c5e-f5c6-4062-829f-33944a7e124c"
      },
      "source": [
        "#The label which has the highest confidence value, form the above prediction is got from the code below\n",
        "np.argmax(predictions[10])"
      ],
      "execution_count": 19,
      "outputs": [
        {
          "output_type": "execute_result",
          "data": {
            "text/plain": [
              "4"
            ]
          },
          "metadata": {
            "tags": []
          },
          "execution_count": 19
        }
      ]
    },
    {
      "cell_type": "code",
      "metadata": {
        "id": "jbn-HdVYcgR0",
        "colab_type": "code",
        "colab": {
          "base_uri": "https://localhost:8080/",
          "height": 34
        },
        "outputId": "8fb94a92-68fe-41c9-fe24-cc9cdc92a5f4"
      },
      "source": [
        "#The model is most confident that this image is a coat, or class_names[4], but we need to check the test label to see if this is correct\n",
        "test_labels[10]"
      ],
      "execution_count": 20,
      "outputs": [
        {
          "output_type": "execute_result",
          "data": {
            "text/plain": [
              "4"
            ]
          },
          "metadata": {
            "tags": []
          },
          "execution_count": 20
        }
      ]
    },
    {
      "cell_type": "code",
      "metadata": {
        "id": "XLLmNkj8cmhF",
        "colab_type": "code",
        "colab": {}
      },
      "source": [
        "def plot_image(i, predictions_array, true_label, img):\n",
        "  predictions_array, true_label, img = predictions_array[i], true_label[i], img[i]\n",
        "  plt.grid(False)\n",
        "  plt.xticks([])\n",
        "  plt.yticks([])\n",
        "  \n",
        "  plt.imshow(img, cmap=plt.cm.binary)\n",
        "  \n",
        "  #The label which has the highest confidence value, form the above prediction is got from the code below\n",
        "  predicted_label = np.argmax(predictions_array)\n",
        "  \n",
        "  #Now we are checking to see if the model got the prediction right\n",
        "  #Correct prediction labels are blue and incorrect prediction labels are red. \n",
        "  if predicted_label == true_label:\n",
        "    color = 'blue'\n",
        "  else:\n",
        "    color = 'red'\n",
        "  \n",
        "  #The number gives the percent (out of 100) for the predicted label.\n",
        "  plt.xlabel(\"{} {:2.0f}% ({})\".format(class_names[predicted_label],\n",
        "                                100*np.max(predictions_array),\n",
        "                                class_names[true_label]),\n",
        "                                color=color)\n",
        "\n",
        "def plot_value_array(i, predictions_array, true_label):\n",
        "  predictions_array, true_label = predictions_array[i], true_label[i]\n",
        "  plt.grid(False)\n",
        "  plt.xticks([])\n",
        "  plt.yticks([])\n",
        "  thisplot = plt.bar(range(10), predictions_array, color=\"#777777\")\n",
        "  plt.ylim([0, 1])\n",
        "  predicted_label = np.argmax(predictions_array)\n",
        "  \n",
        "  thisplot[predicted_label].set_color('red')\n",
        "  thisplot[true_label].set_color('blue')"
      ],
      "execution_count": 0,
      "outputs": []
    },
    {
      "cell_type": "markdown",
      "metadata": {
        "id": "uUuKrWPW2-Cb",
        "colab_type": "text"
      },
      "source": [
        "## The 0th image, along with its predictions, and prediction array"
      ]
    },
    {
      "cell_type": "code",
      "metadata": {
        "id": "Svrtr993c84k",
        "colab_type": "code",
        "colab": {
          "base_uri": "https://localhost:8080/",
          "height": 206
        },
        "outputId": "6bbb26d6-b42f-4a6d-c60c-59f468445d80"
      },
      "source": [
        "i = 0\n",
        "plt.figure(figsize=(6,3))\n",
        "plt.subplot(1,2,1)\n",
        "plot_image(i, predictions, test_labels, test_imgs)\n",
        "plt.subplot(1,2,2)\n",
        "plot_value_array(i, predictions,  test_labels)\n",
        "plt.show()"
      ],
      "execution_count": 22,
      "outputs": [
        {
          "output_type": "display_data",
          "data": {
            "image/png": "[encoded data removed]",
            "text/plain": [
              "<Figure size 432x216 with 2 Axes>"
            ]
          },
          "metadata": {
            "tags": []
          }
        }
      ]
    },
    {
      "cell_type": "markdown",
      "metadata": {
        "id": "kqcEJDmd3dTQ",
        "colab_type": "text"
      },
      "source": [
        "# The 12th image, along with its predictions, and prediction array"
      ]
    },
    {
      "cell_type": "code",
      "metadata": {
        "id": "TOctBrq-c_zV",
        "colab_type": "code",
        "colab": {
          "base_uri": "https://localhost:8080/",
          "height": 206
        },
        "outputId": "2057078b-e4ba-47ce-bbfc-7c2dea912330"
      },
      "source": [
        "i = 12\n",
        "plt.figure(figsize=(6,3))\n",
        "plt.subplot(1,2,1)\n",
        "plot_image(i, predictions, test_labels, test_imgs)\n",
        "plt.subplot(1,2,2)\n",
        "plot_value_array(i, predictions,  test_labels)\n",
        "plt.show()"
      ],
      "execution_count": 23,
      "outputs": [
        {
          "output_type": "display_data",
          "data": {
            "image/png": "[encoded data removed]",
            "text/plain": [
              "<Figure size 432x216 with 2 Axes>"
            ]
          },
          "metadata": {
            "tags": []
          }
        }
      ]
    },
    {
      "cell_type": "code",
      "metadata": {
        "id": "q5yh_XIYdGHE",
        "colab_type": "code",
        "colab": {
          "base_uri": "https://localhost:8080/",
          "height": 592
        },
        "outputId": "4fd365c8-df96-40f8-dca9-2cca0b2ccd7a"
      },
      "source": [
        "# Plot the first X test images, their predicted label, and the true label\n",
        "# Color correct predictions in blue, incorrect predictions in red\n",
        "num_rows = 5\n",
        "num_cols = 3\n",
        "num_images = num_rows*num_cols\n",
        "plt.figure(figsize=(2*2*num_cols, 2*num_rows))\n",
        "for i in range(num_images):\n",
        "  plt.subplot(num_rows, 2*num_cols, 2*i+1)\n",
        "  plot_image(i, predictions, test_labels, test_imgs)\n",
        "  plt.subplot(num_rows, 2*num_cols, 2*i+2)\n",
        "  plot_value_array(i, predictions, test_labels)\n",
        "plt.show()"
      ],
      "execution_count": 24,
      "outputs": [
        {
          "output_type": "display_data",
          "data": {
            "image/png": "[encoded data removed]",
            "text/plain": [
              "<Figure size 864x720 with 30 Axes>"
            ]
          },
          "metadata": {
            "tags": []
          }
        }
      ]
    },
    {
      "cell_type": "code",
      "metadata": {
        "id": "k2jZjc3pdnlV",
        "colab_type": "code",
        "colab": {
          "base_uri": "https://localhost:8080/",
          "height": 34
        },
        "outputId": "82ae7c0d-c0da-482f-ef59-8cca024c6b53"
      },
      "source": [
        "# Grab an image from the test dataset\n",
        "img = test_imgs[0]\n",
        "\n",
        "# Print its Dimensions in Pixels\n",
        "print(img.shape)"
      ],
      "execution_count": 25,
      "outputs": [
        {
          "output_type": "stream",
          "text": [
            "(28, 28)\n"
          ],
          "name": "stdout"
        }
      ]
    },
    {
      "cell_type": "code",
      "metadata": {
        "id": "0S47Q61heTqT",
        "colab_type": "code",
        "colab": {
          "base_uri": "https://localhost:8080/",
          "height": 34
        },
        "outputId": "5f909818-8ae3-4e92-c7c8-467d81fc45f9"
      },
      "source": [
        "# Add the image to a batch where it's the only member.\n",
        "img = (np.expand_dims(img,0))\n",
        "\n",
        "# The image is the only one in the batch, its Dimensions in Pixels are 28 x 28\n",
        "print(img.shape)"
      ],
      "execution_count": 26,
      "outputs": [
        {
          "output_type": "stream",
          "text": [
            "(1, 28, 28)\n"
          ],
          "name": "stdout"
        }
      ]
    },
    {
      "cell_type": "code",
      "metadata": {
        "id": "EVegTo6tede0",
        "colab_type": "code",
        "colab": {
          "base_uri": "https://localhost:8080/",
          "height": 1000
        },
        "outputId": "99957d69-09a5-4147-8351-ffd4b902c5ad"
      },
      "source": [
        "print(img)"
      ],
      "execution_count": 27,
      "outputs": [
        {
          "output_type": "stream",
          "text": [
            "[[[0.         0.         0.         0.         0.         0.\n",
            "   0.         0.         0.         0.         0.         0.\n",
            "   0.         0.         0.         0.         0.         0.\n",
            "   0.         0.         0.         0.         0.         0.\n",
            "   0.         0.         0.         0.        ]\n",
            "  [0.         0.         0.         0.         0.         0.\n",
            "   0.         0.         0.         0.         0.         0.\n",
            "   0.         0.         0.         0.         0.         0.\n",
            "   0.         0.         0.         0.         0.         0.\n",
            "   0.         0.         0.         0.        ]\n",
            "  [0.         0.         0.         0.         0.         0.\n",
            "   0.         0.         0.         0.         0.         0.\n",
            "   0.         0.         0.         0.         0.         0.\n",
            "   0.         0.         0.         0.         0.         0.\n",
            "   0.         0.         0.         0.        ]\n",
            "  [0.         0.         0.         0.         0.         0.\n",
            "   0.         0.         0.         0.         0.         0.\n",
            "   0.         0.         0.         0.         0.         0.\n",
            "   0.         0.         0.         0.         0.         0.\n",
            "   0.         0.         0.         0.        ]\n",
            "  [0.         0.         0.         0.         0.         0.\n",
            "   0.         0.         0.         0.         0.         0.\n",
            "   0.         0.         0.         0.         0.         0.\n",
            "   0.         0.         0.         0.         0.         0.\n",
            "   0.         0.         0.         0.        ]\n",
            "  [0.         0.         0.         0.         0.         0.\n",
            "   0.         0.         0.         0.         0.         0.\n",
            "   0.         0.         0.         0.         0.         0.\n",
            "   0.         0.         0.         0.         0.         0.\n",
            "   0.         0.         0.         0.        ]\n",
            "  [0.         0.         0.         0.         0.         0.\n",
            "   0.         0.         0.         0.         0.         0.\n",
            "   0.         0.         0.         0.         0.         0.\n",
            "   0.         0.         0.         0.         0.         0.\n",
            "   0.         0.         0.         0.        ]\n",
            "  [0.         0.         0.         0.         0.         0.\n",
            "   0.         0.         0.         0.         0.         0.\n",
            "   0.         0.         0.         0.         0.         0.\n",
            "   0.         0.01176471 0.00392157 0.         0.         0.02745098\n",
            "   0.         0.14509804 0.         0.        ]\n",
            "  [0.         0.         0.         0.         0.         0.\n",
            "   0.         0.         0.         0.         0.         0.\n",
            "   0.         0.00392157 0.00784314 0.         0.10588235 0.32941176\n",
            "   0.04313725 0.         0.         0.         0.         0.\n",
            "   0.         0.46666667 0.         0.        ]\n",
            "  [0.         0.         0.         0.         0.         0.\n",
            "   0.         0.         0.         0.         0.         0.\n",
            "   0.         0.00392157 0.         0.         0.34509804 0.56078431\n",
            "   0.43137255 0.         0.         0.         0.         0.08627451\n",
            "   0.36470588 0.41568627 0.         0.        ]\n",
            "  [0.         0.         0.         0.         0.         0.\n",
            "   0.         0.         0.         0.         0.         0.\n",
            "   0.         0.01568627 0.         0.20784314 0.50588235 0.47058824\n",
            "   0.57647059 0.68627451 0.61568627 0.65098039 0.52941176 0.60392157\n",
            "   0.65882353 0.54901961 0.         0.        ]\n",
            "  [0.         0.         0.         0.         0.         0.\n",
            "   0.         0.         0.         0.         0.         0.\n",
            "   0.00784314 0.         0.04313725 0.5372549  0.50980392 0.50196078\n",
            "   0.62745098 0.69019608 0.62352941 0.65490196 0.69803922 0.58431373\n",
            "   0.59215686 0.56470588 0.         0.        ]\n",
            "  [0.         0.         0.         0.         0.         0.\n",
            "   0.00392157 0.         0.00784314 0.00392157 0.         0.01176471\n",
            "   0.         0.         0.45098039 0.44705882 0.41568627 0.5372549\n",
            "   0.65882353 0.6        0.61176471 0.64705882 0.65490196 0.56078431\n",
            "   0.61568627 0.61960784 0.04313725 0.        ]\n",
            "  [0.         0.         0.         0.         0.00392157 0.\n",
            "   0.         0.         0.         0.         0.01176471 0.\n",
            "   0.         0.34901961 0.54509804 0.35294118 0.36862745 0.6\n",
            "   0.58431373 0.51372549 0.59215686 0.6627451  0.6745098  0.56078431\n",
            "   0.62352941 0.6627451  0.18823529 0.        ]\n",
            "  [0.         0.         0.         0.         0.         0.\n",
            "   0.00784314 0.01568627 0.00392157 0.         0.         0.\n",
            "   0.38431373 0.53333333 0.43137255 0.42745098 0.43137255 0.63529412\n",
            "   0.52941176 0.56470588 0.58431373 0.62352941 0.65490196 0.56470588\n",
            "   0.61960784 0.6627451  0.46666667 0.        ]\n",
            "  [0.         0.         0.00784314 0.00784314 0.00392157 0.00784314\n",
            "   0.         0.         0.         0.         0.10196078 0.42352941\n",
            "   0.45882353 0.38823529 0.43529412 0.45882353 0.53333333 0.61176471\n",
            "   0.5254902  0.60392157 0.60392157 0.61176471 0.62745098 0.55294118\n",
            "   0.57647059 0.61176471 0.69803922 0.        ]\n",
            "  [0.01176471 0.         0.         0.         0.         0.\n",
            "   0.         0.08235294 0.20784314 0.36078431 0.45882353 0.43529412\n",
            "   0.40392157 0.45098039 0.50588235 0.5254902  0.56078431 0.60392157\n",
            "   0.64705882 0.66666667 0.60392157 0.59215686 0.60392157 0.56078431\n",
            "   0.54117647 0.58823529 0.64705882 0.16862745]\n",
            "  [0.         0.         0.09019608 0.21176471 0.25490196 0.29803922\n",
            "   0.33333333 0.4627451  0.50196078 0.48235294 0.43529412 0.44313725\n",
            "   0.4627451  0.49803922 0.49019608 0.54509804 0.52156863 0.53333333\n",
            "   0.62745098 0.54901961 0.60784314 0.63137255 0.56470588 0.60784314\n",
            "   0.6745098  0.63137255 0.74117647 0.24313725]\n",
            "  [0.         0.26666667 0.36862745 0.35294118 0.43529412 0.44705882\n",
            "   0.43529412 0.44705882 0.45098039 0.49803922 0.52941176 0.53333333\n",
            "   0.56078431 0.49411765 0.49803922 0.59215686 0.60392157 0.56078431\n",
            "   0.58039216 0.49019608 0.63529412 0.63529412 0.56470588 0.54117647\n",
            "   0.6        0.63529412 0.76862745 0.22745098]\n",
            "  [0.2745098  0.6627451  0.50588235 0.40784314 0.38431373 0.39215686\n",
            "   0.36862745 0.38039216 0.38431373 0.4        0.42352941 0.41568627\n",
            "   0.46666667 0.47058824 0.50588235 0.58431373 0.61176471 0.65490196\n",
            "   0.74509804 0.74509804 0.76862745 0.77647059 0.77647059 0.73333333\n",
            "   0.77254902 0.74117647 0.72156863 0.14117647]\n",
            "  [0.0627451  0.49411765 0.67058824 0.7372549  0.7372549  0.72156863\n",
            "   0.67058824 0.6        0.52941176 0.47058824 0.49411765 0.49803922\n",
            "   0.57254902 0.7254902  0.76470588 0.81960784 0.81568627 1.\n",
            "   0.81960784 0.69411765 0.96078431 0.98823529 0.98431373 0.98431373\n",
            "   0.96862745 0.8627451  0.80784314 0.19215686]\n",
            "  [0.         0.         0.         0.04705882 0.2627451  0.41568627\n",
            "   0.64313725 0.7254902  0.78039216 0.82352941 0.82745098 0.82352941\n",
            "   0.81568627 0.74509804 0.58823529 0.32156863 0.03137255 0.\n",
            "   0.         0.         0.69803922 0.81568627 0.7372549  0.68627451\n",
            "   0.63529412 0.61960784 0.59215686 0.04313725]\n",
            "  [0.         0.         0.         0.         0.         0.\n",
            "   0.         0.         0.         0.         0.         0.\n",
            "   0.         0.         0.         0.         0.         0.\n",
            "   0.         0.         0.         0.         0.         0.\n",
            "   0.         0.         0.         0.        ]\n",
            "  [0.         0.         0.         0.         0.         0.\n",
            "   0.         0.         0.         0.         0.         0.\n",
            "   0.         0.         0.         0.         0.         0.\n",
            "   0.         0.         0.         0.         0.         0.\n",
            "   0.         0.         0.         0.        ]\n",
            "  [0.         0.         0.         0.         0.         0.\n",
            "   0.         0.         0.         0.         0.         0.\n",
            "   0.         0.         0.         0.         0.         0.\n",
            "   0.         0.         0.         0.         0.         0.\n",
            "   0.         0.         0.         0.        ]\n",
            "  [0.         0.         0.         0.         0.         0.\n",
            "   0.         0.         0.         0.         0.         0.\n",
            "   0.         0.         0.         0.         0.         0.\n",
            "   0.         0.         0.         0.         0.         0.\n",
            "   0.         0.         0.         0.        ]\n",
            "  [0.         0.         0.         0.         0.         0.\n",
            "   0.         0.         0.         0.         0.         0.\n",
            "   0.         0.         0.         0.         0.         0.\n",
            "   0.         0.         0.         0.         0.         0.\n",
            "   0.         0.         0.         0.        ]\n",
            "  [0.         0.         0.         0.         0.         0.\n",
            "   0.         0.         0.         0.         0.         0.\n",
            "   0.         0.         0.         0.         0.         0.\n",
            "   0.         0.         0.         0.         0.         0.\n",
            "   0.         0.         0.         0.        ]]]\n"
          ],
          "name": "stdout"
        }
      ]
    },
    {
      "cell_type": "code",
      "metadata": {
        "id": "pfbcHEdze2c0",
        "colab_type": "code",
        "colab": {
          "base_uri": "https://localhost:8080/",
          "height": 51
        },
        "outputId": "3e949d49-8d8e-4a24-e195-b2b5a58a5fa5"
      },
      "source": [
        "#Now predict what the image is\n",
        "predictions_single = model.predict(img)\n",
        "\n",
        "print(predictions_single)"
      ],
      "execution_count": 28,
      "outputs": [
        {
          "output_type": "stream",
          "text": [
            "[[1.5895858e-06 2.5056693e-07 7.6514571e-06 7.4445602e-08 5.3840113e-06\n",
            "  2.2853428e-01 2.3758001e-05 1.0744257e-01 5.3307660e-05 6.6393101e-01]]\n"
          ],
          "name": "stdout"
        }
      ]
    },
    {
      "cell_type": "code",
      "metadata": {
        "id": "fe3BK5Zggl39",
        "colab_type": "code",
        "colab": {
          "base_uri": "https://localhost:8080/",
          "height": 303
        },
        "outputId": "44f66901-c191-407e-b095-6e76be7047c4"
      },
      "source": [
        "plot_value_array(0, predictions_single, test_labels)\n",
        "plt.xticks(range(10), class_names, rotation=44)\n",
        "plt.show()"
      ],
      "execution_count": 29,
      "outputs": [
        {
          "output_type": "display_data",
          "data": {
            "image/png": "[encoded data removed]",
            "text/plain": [
              "<Figure size 432x288 with 1 Axes>"
            ]
          },
          "metadata": {
            "tags": []
          }
        }
      ]
    },
    {
      "cell_type": "code",
      "metadata": {
        "id": "KhYt30zsgxLF",
        "colab_type": "code",
        "colab": {
          "base_uri": "https://localhost:8080/",
          "height": 34
        },
        "outputId": "80b3a1ea-8c83-45b7-e854-c18f24029f28"
      },
      "source": [
        "prediction_result = np.argmax(predictions_single[0])\n",
        "print(\"Our prediction result is:\", prediction_result, \"which means that, my model has identified the image to be:\", class_names[prediction_result])"
      ],
      "execution_count": 30,
      "outputs": [
        {
          "output_type": "stream",
          "text": [
            "Our prediction result is: 9 which means that, my model has identified the image to be: Ankle boot\n"
          ],
          "name": "stdout"
        }
      ]
    },
    {
      "cell_type": "markdown",
      "metadata": {
        "id": "Ao74zeKY5Aix",
        "colab_type": "text"
      },
      "source": [
        "##Let's see what the Image actually is,"
      ]
    },
    {
      "cell_type": "code",
      "metadata": {
        "id": "MMvg6cvRg4BE",
        "colab_type": "code",
        "colab": {
          "base_uri": "https://localhost:8080/",
          "height": 269
        },
        "outputId": "22634961-40f1-4343-bf3a-8deccf93df93"
      },
      "source": [
        "plt.figure()\n",
        "plt.imshow(test_imgs[0])\n",
        "plt.colorbar()\n",
        "plt.grid(False)\n",
        "plt.show()"
      ],
      "execution_count": 31,
      "outputs": [
        {
          "output_type": "display_data",
          "data": {
            "image/png": "[encoded data removed]",
            "text/plain": [
              "<Figure size 432x288 with 2 Axes>"
            ]
          },
          "metadata": {
            "tags": []
          }
        }
      ]
    },
    {
      "cell_type": "code",
      "metadata": {
        "id": "fWY87fJXhjSk",
        "colab_type": "code",
        "colab": {
          "base_uri": "https://localhost:8080/",
          "height": 34
        },
        "outputId": "275e419f-f49d-4ac3-b65b-002a1fd35772"
      },
      "source": [
        "if(prediction_result == test_labels[0]):\n",
        "  print(\"The prediction made was Correct !\")\n",
        "else:\n",
        "  print(\"The prediction made was Incorrect !\")"
      ],
      "execution_count": 32,
      "outputs": [
        {
          "output_type": "stream",
          "text": [
            "The prediction made was Correct !\n"
          ],
          "name": "stdout"
        }
      ]
    },
    {
      "cell_type": "markdown",
      "metadata": {
        "id": "mUXphTiDhk_3",
        "colab_type": "text"
      },
      "source": [
        "## The model successfully predicted the right answer in this case."
      ]
    }
  ]
}